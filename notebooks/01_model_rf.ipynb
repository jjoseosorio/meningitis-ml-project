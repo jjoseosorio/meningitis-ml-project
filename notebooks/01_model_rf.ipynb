{
 "cells": [
  {
   "cell_type": "code",
   "execution_count": 13,
   "id": "75b0e94e-1d5c-4f28-bf70-82939a40a3f9",
   "metadata": {},
   "outputs": [
    {
     "name": "stdout",
     "output_type": "stream",
     "text": [
      "C:\\Users\\jjose\\OneDrive\\Escritorio\\meningitis-ml-project\n"
     ]
    }
   ],
   "source": [
    "%cd .."
   ]
  },
  {
   "cell_type": "code",
   "execution_count": 21,
   "id": "bdf24a6a-0164-4776-bc1c-7a95a4e9f858",
   "metadata": {},
   "outputs": [
    {
     "name": "stdout",
     "output_type": "stream",
     "text": [
      "Metrics saved to results\\metrics_report.txt\n",
      "Confusion matrix saved to results\\confusion_matrix.png\n",
      "Top‑20 importances saved.\n",
      "\n",
      "Entrenamiento completo.\n",
      "Tiempo total: 95.4 s\n",
      "\n",
      "Métricas principales:\n",
      "AUC-ROC: 0.569\n",
      "Accuracy: 0.826\n",
      "Precision: 0.750\n",
      "Recall: 0.500\n",
      "F1-score: 0.600\n"
     ]
    }
   ],
   "source": [
    "%run src/rf_meningitis_pipeline.py"
   ]
  },
  {
   "cell_type": "code",
   "execution_count": null,
   "id": "5d4395ff-caa5-4a87-b45a-d284a0c4538a",
   "metadata": {},
   "outputs": [],
   "source": []
  }
 ],
 "metadata": {
  "kernelspec": {
   "display_name": "Python 3 (ipykernel)",
   "language": "python",
   "name": "python3"
  },
  "language_info": {
   "codemirror_mode": {
    "name": "ipython",
    "version": 3
   },
   "file_extension": ".py",
   "mimetype": "text/x-python",
   "name": "python",
   "nbconvert_exporter": "python",
   "pygments_lexer": "ipython3",
   "version": "3.12.7"
  }
 },
 "nbformat": 4,
 "nbformat_minor": 5
}
